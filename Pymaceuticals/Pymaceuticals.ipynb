{
 "cells": [
  {
   "cell_type": "code",
   "execution_count": 2,
   "metadata": {
    "collapsed": true
   },
   "outputs": [],
   "source": [
    "# Dependencies\n",
    "import numpy as np\n",
    "import matplotlib.pyplot as plt\n",
    "import pandas as pd\n",
    "import seaborn as sns\n",
    "from scipy.stats import sem\n",
    "%matplotlib inline"
   ]
  },
  {
   "cell_type": "code",
   "execution_count": 3,
   "metadata": {
    "collapsed": true
   },
   "outputs": [],
   "source": [
    "# Read in clinical trial data\n",
    "trial_df = pd.read_csv(\"raw_data\\clinicaltrial_data.csv\")\n",
    "#trial_df.head()"
   ]
  },
  {
   "cell_type": "code",
   "execution_count": 4,
   "metadata": {
    "collapsed": true
   },
   "outputs": [],
   "source": [
    "# Read in mouse drug data\n",
    "mouse_df = pd.read_csv(\"raw_data\\mouse_drug_data.csv\")\n",
    "#mouse_df.head()"
   ]
  },
  {
   "cell_type": "code",
   "execution_count": 5,
   "metadata": {},
   "outputs": [
    {
     "data": {
      "text/html": [
       "<div>\n",
       "<style>\n",
       "    .dataframe thead tr:only-child th {\n",
       "        text-align: right;\n",
       "    }\n",
       "\n",
       "    .dataframe thead th {\n",
       "        text-align: left;\n",
       "    }\n",
       "\n",
       "    .dataframe tbody tr th {\n",
       "        vertical-align: top;\n",
       "    }\n",
       "</style>\n",
       "<table border=\"1\" class=\"dataframe\">\n",
       "  <thead>\n",
       "    <tr style=\"text-align: right;\">\n",
       "      <th></th>\n",
       "      <th>Mouse ID</th>\n",
       "      <th>Drug</th>\n",
       "      <th>Timepoint</th>\n",
       "      <th>Tumor Volume (mm3)</th>\n",
       "      <th>Metastatic Sites</th>\n",
       "    </tr>\n",
       "  </thead>\n",
       "  <tbody>\n",
       "    <tr>\n",
       "      <th>0</th>\n",
       "      <td>f234</td>\n",
       "      <td>Stelasyn</td>\n",
       "      <td>0</td>\n",
       "      <td>45.000000</td>\n",
       "      <td>0</td>\n",
       "    </tr>\n",
       "    <tr>\n",
       "      <th>1</th>\n",
       "      <td>f234</td>\n",
       "      <td>Stelasyn</td>\n",
       "      <td>5</td>\n",
       "      <td>47.313491</td>\n",
       "      <td>0</td>\n",
       "    </tr>\n",
       "    <tr>\n",
       "      <th>2</th>\n",
       "      <td>f234</td>\n",
       "      <td>Stelasyn</td>\n",
       "      <td>10</td>\n",
       "      <td>47.904324</td>\n",
       "      <td>0</td>\n",
       "    </tr>\n",
       "    <tr>\n",
       "      <th>3</th>\n",
       "      <td>f234</td>\n",
       "      <td>Stelasyn</td>\n",
       "      <td>15</td>\n",
       "      <td>48.735197</td>\n",
       "      <td>1</td>\n",
       "    </tr>\n",
       "    <tr>\n",
       "      <th>4</th>\n",
       "      <td>f234</td>\n",
       "      <td>Stelasyn</td>\n",
       "      <td>20</td>\n",
       "      <td>51.112713</td>\n",
       "      <td>2</td>\n",
       "    </tr>\n",
       "  </tbody>\n",
       "</table>\n",
       "</div>"
      ],
      "text/plain": [
       "  Mouse ID      Drug  Timepoint  Tumor Volume (mm3)  Metastatic Sites\n",
       "0     f234  Stelasyn          0           45.000000                 0\n",
       "1     f234  Stelasyn          5           47.313491                 0\n",
       "2     f234  Stelasyn         10           47.904324                 0\n",
       "3     f234  Stelasyn         15           48.735197                 1\n",
       "4     f234  Stelasyn         20           51.112713                 2"
      ]
     },
     "execution_count": 5,
     "metadata": {},
     "output_type": "execute_result"
    }
   ],
   "source": [
    "# Merge the data sets\n",
    "data_df = pd.merge(mouse_df, trial_df, on=\"Mouse ID\")\n",
    "data_df.head()"
   ]
  },
  {
   "cell_type": "code",
   "execution_count": null,
   "metadata": {
    "collapsed": true
   },
   "outputs": [],
   "source": []
  },
  {
   "cell_type": "code",
   "execution_count": 6,
   "metadata": {
    "collapsed": true
   },
   "outputs": [],
   "source": [
    "# Analyze four treatments (of ten): Capomulin, Infubinol, Ketapril, and Placebo\n",
    "capomulin_df = data_df.loc[data_df[\"Drug\"] == \"Capomulin\"]\n",
    "infubinol_df = data_df.loc[data_df[\"Drug\"] == \"Infubinol\"]\n",
    "ketapril_df = data_df.loc[data_df[\"Drug\"] == \"Ketapril\"]\n",
    "placebo_df = data_df.loc[data_df[\"Drug\"] == \"Placebo\"]"
   ]
  },
  {
   "cell_type": "code",
   "execution_count": 18,
   "metadata": {},
   "outputs": [],
   "source": [
    "# capomulin_mouse_list = [mouse for mouse in capomulin_df[\"Mouse ID\"].unique()]\n",
    "# capomulin_temp_df = capomulin_df[[\"Mouse ID\", \"Timepoint\", \"Tumor Volume (mm3)\"]]\n",
    "# capomulin_volume_df = pd.DataFrame(capomulin_temp_df[\"Timepoint\"].head(10))\n",
    "# capomulin_volume_df = capomulin_volume_df.set_index(\"Timepoint\")\n",
    "# for mouse in capomulin_mouse_list:\n",
    "#     mouse_volume = [capomulin_df[\"Tumor Volume (mm3)\"].loc[capomulin_df[\"Mouse ID\"] == mouse].values]\n",
    "#     for mice in mouse_volume:\n",
    "#         while len(mice) != 10:\n",
    "#             mice = np.insert(mice, len(mice), 0)\n",
    "#         capomulin_volume_df[mouse] = mice\n",
    "# capomulin_volume_df.keys()"
   ]
  },
  {
   "cell_type": "code",
   "execution_count": 47,
   "metadata": {},
   "outputs": [],
   "source": [
    "# means = [np.mean(capomulin_volume_df[key]) for key in capomulin_volume_df.keys()]\n",
    "# standard_errors = [sem(capomulin_volume_df[key]) for key in capomulin_volume_df.keys()]\n",
    "# print(means)\n",
    "# x_axis = np.arange(0, len(means), 1)\n",
    "# fig, ax = plt.subplots()\n",
    "# ax.errorbar(x_axis, means, standard_errors, fmt=\"o\")"
   ]
  },
  {
   "cell_type": "code",
   "execution_count": 40,
   "metadata": {
    "collapsed": true
   },
   "outputs": [],
   "source": [
    "# Create a scatter plot that shows how the tumor volume changes over time for each treatment\n",
    "# # Capomulin\n",
    "# capomulin_mouse_list = [mouse for mouse in capomulin_df[\"Mouse ID\"].unique()]\n",
    "# capomulin_volume = []\n",
    "# x_axis = np.arange(0, 46, 5)\n",
    "# for mouse in capomulin_mouse_list:\n",
    "#     capomulin_volume.append(capomulin_df[\"Tumor Volume (mm3)\"].loc[capomulin_df[\"Mouse ID\"] == mouse].values)"
   ]
  },
  {
   "cell_type": "code",
   "execution_count": 41,
   "metadata": {
    "collapsed": true
   },
   "outputs": [],
   "source": [
    "# # Infubinol\n",
    "# infubinol_mouse_list = [mouse for mouse in infubinol_df[\"Mouse ID\"].unique()]\n",
    "# infubinol_volume = []\n",
    "# for mouse in infubinol_mouse_list:\n",
    "#     infubinol_volume.append(infubinol_df[\"Tumor Volume (mm3)\"].loc[infubinol_df[\"Mouse ID\"] == mouse].values)"
   ]
  },
  {
   "cell_type": "code",
   "execution_count": 42,
   "metadata": {
    "collapsed": true
   },
   "outputs": [],
   "source": [
    "# # Ketapril\n",
    "# ketapril_mouse_list = [mouse for mouse in ketapril_df[\"Mouse ID\"].unique()]\n",
    "# ketapril_volume = []\n",
    "# for mouse in ketapril_mouse_list:\n",
    "#     ketapril_volume.append(ketapril_df[\"Tumor Volume (mm3)\"].loc[ketapril_df[\"Mouse ID\"] == mouse].values)"
   ]
  },
  {
   "cell_type": "code",
   "execution_count": 43,
   "metadata": {
    "collapsed": true
   },
   "outputs": [],
   "source": [
    "# # Placebo\n",
    "# placebo_mouse_list = [mouse for mouse in placebo_df[\"Mouse ID\"].unique()]\n",
    "# placebo_volume = []\n",
    "# for mouse in placebo_mouse_list:\n",
    "#     placebo_volume.append(placebo_df[\"Tumor Volume (mm3)\"].loc[placebo_df[\"Mouse ID\"] == mouse].values)"
   ]
  },
  {
   "cell_type": "code",
   "execution_count": 48,
   "metadata": {},
   "outputs": [],
   "source": [
    "# # Lets try things\n",
    "# fig, ax = plt.subplots()\n",
    "# #fig.suptitle(\"\")\n",
    "\n",
    "# for volume in capomulin_volume:\n",
    "#     #Fill in blank values\n",
    "#     while len(volume) != 10:\n",
    "#         volume = np.insert(volume, len(volume), 0)\n",
    "#     ax.scatter(x_axis, volume, color=\"blue\", label=\"Capomulin Volume\")\n",
    "# for volume in infubinol_volume:\n",
    "#     #Fill in blank values\n",
    "#     while len(volume) != 10:\n",
    "#         volume = np.insert(volume, len(volume), 0)\n",
    "#     ax.scatter(x_axis, volume, color=\"red\", label=\"Infubinol Volume\")\n",
    "# for volume in ketapril_volume:\n",
    "#     #Fill in blank values\n",
    "#     while len(volume) != 10:\n",
    "#         volume = np.insert(volume, len(volume), 0)\n",
    "#     ax.scatter(x_axis, volume, color=\"green\", label=\"Ketapril Volume\")\n",
    "# for volume in placebo_volume:\n",
    "#     #Fill in blank values\n",
    "#     while len(volume) != 10:\n",
    "#         volume = np.insert(volume, len(volume), 0)\n",
    "#     ax.scatter(x_axis, volume, color=\"purple\", label=\"Placebo Volume\")\n",
    "    \n",
    "# plt.show()"
   ]
  },
  {
   "cell_type": "code",
   "execution_count": 55,
   "metadata": {},
   "outputs": [],
   "source": [
    "# Once again overcomplicated things...\n",
    "capomulin_group = capomulin_df.groupby(\"Timepoint\")\n",
    "capomulin_means = capomulin_group.mean()\n",
    "capomulin_sems = capomulin_group.sem()\n",
    "\n",
    "capomulin_means = capomulin_means[\"Tumor Volume (mm3)\"].values\n",
    "capomulin_sems = capomulin_sems[\"Tumor Volume (mm3)\"].values"
   ]
  },
  {
   "cell_type": "code",
   "execution_count": 56,
   "metadata": {
    "collapsed": true
   },
   "outputs": [],
   "source": [
    "infubinol_group = infubinol_df.groupby(\"Timepoint\")\n",
    "infubinol_means = infubinol_group.mean()\n",
    "infubinol_sems = infubinol_group.sem()\n",
    "\n",
    "infubinol_means = infubinol_means[\"Tumor Volume (mm3)\"].values\n",
    "infubinol_sems = infubinol_sems[\"Tumor Volume (mm3)\"].values"
   ]
  },
  {
   "cell_type": "code",
   "execution_count": 58,
   "metadata": {
    "collapsed": true
   },
   "outputs": [],
   "source": [
    "ketapril_group = ketapril_df.groupby(\"Timepoint\")\n",
    "ketapril_means = ketapril_group.mean()\n",
    "ketapril_sems = ketapril_group.sem()\n",
    "\n",
    "ketapril_means = ketapril_means[\"Tumor Volume (mm3)\"].values\n",
    "ketapril_sems = ketapril_sems[\"Tumor Volume (mm3)\"].values"
   ]
  },
  {
   "cell_type": "code",
   "execution_count": 60,
   "metadata": {
    "collapsed": true
   },
   "outputs": [],
   "source": [
    "placebo_group = placebo_df.groupby(\"Timepoint\")\n",
    "placebo_means = placebo_group.mean()\n",
    "placebo_sems = placebo_group.sem()\n",
    "\n",
    "placebo_means = placebo_means[\"Tumor Volume (mm3)\"].values\n",
    "placebo_sems = placebo_sems[\"Tumor Volume (mm3)\"].values"
   ]
  },
  {
   "cell_type": "code",
   "execution_count": 93,
   "metadata": {},
   "outputs": [
    {
     "data": {
      "image/png": "[encoded data removed]",
      "text/plain": [
       "<matplotlib.figure.Figure at 0x2016390d898>"
      ]
     },
     "metadata": {},
     "output_type": "display_data"
    }
   ],
   "source": [
    "\n",
    "x_axis = np.arange(0, 46, 5)\n",
    "fig, ax = plt.subplots()\n",
    "fig.suptitle(\"Tumor Response to Treatment\")\n",
    "\n",
    "ax.set_xlabel(\"Time (Days)\")\n",
    "ax.set_ylabel(\"Tumor Volume (mm3)\")\n",
    "ax.errorbar(x_axis, capomulin_means, capomulin_sems, fmt=\"o\", color=\"b\")\n",
    "ax.plot(x_axis, capomulin_means, \"bo--\", label=\"Capomulin\")\n",
    "ax.errorbar(x_axis, infubinol_means, infubinol_sems, fmt=\"^\", color=\"r\")\n",
    "ax.plot(x_axis, infubinol_means, \"r^--\", label=\"Infubinol\")\n",
    "ax.errorbar(x_axis, ketapril_means, ketapril_sems, fmt=\"s\", color=\"g\")\n",
    "ax.plot(x_axis, ketapril_means, \"gs--\", label=\"Ketapril\")\n",
    "ax.errorbar(x_axis, placebo_means, placebo_sems, fmt=\"d\", color=\"purple\")\n",
    "ax.plot(x_axis, placebo_means, \"d--\", color=\"purple\", label=\"Placebo\")\n",
    "\n",
    "plt.legend(loc=\"best\")\n",
    "plt.show()"
   ]
  },
  {
   "cell_type": "code",
   "execution_count": null,
   "metadata": {
    "collapsed": true
   },
   "outputs": [],
   "source": []
  }
 ],
 "metadata": {
  "kernelspec": {
   "display_name": "Python [conda env:PythonData]",
   "language": "python",
   "name": "conda-env-PythonData-py"
  },
  "language_info": {
   "codemirror_mode": {
    "name": "ipython",
    "version": 3
   },
   "file_extension": ".py",
   "mimetype": "text/x-python",
   "name": "python",
   "nbconvert_exporter": "python",
   "pygments_lexer": "ipython3",
   "version": "3.6.3"
  }
 },
 "nbformat": 4,
 "nbformat_minor": 2
}
